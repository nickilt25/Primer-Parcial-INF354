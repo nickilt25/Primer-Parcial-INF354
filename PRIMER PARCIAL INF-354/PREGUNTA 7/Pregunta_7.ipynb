{
  "nbformat": 4,
  "nbformat_minor": 0,
  "metadata": {
    "colab": {
      "provenance": []
    },
    "kernelspec": {
      "name": "python3",
      "display_name": "Python 3"
    },
    "language_info": {
      "name": "python"
    }
  },
  "cells": [
    {
      "cell_type": "code",
      "source": [
        "pip install deap"
      ],
      "metadata": {
        "colab": {
          "base_uri": "https://localhost:8080/"
        },
        "id": "9dowmCCXEnBD",
        "outputId": "8d6c7db7-abd5-45ef-ac50-6624d0b9dbee"
      },
      "execution_count": 3,
      "outputs": [
        {
          "output_type": "stream",
          "name": "stdout",
          "text": [
            "Collecting deap\n",
            "  Downloading deap-1.4.1-cp310-cp310-manylinux_2_5_x86_64.manylinux1_x86_64.manylinux_2_17_x86_64.manylinux2014_x86_64.whl.metadata (13 kB)\n",
            "Requirement already satisfied: numpy in /usr/local/lib/python3.10/dist-packages (from deap) (1.26.4)\n",
            "Downloading deap-1.4.1-cp310-cp310-manylinux_2_5_x86_64.manylinux1_x86_64.manylinux_2_17_x86_64.manylinux2014_x86_64.whl (135 kB)\n",
            "\u001b[2K   \u001b[90m━━━━━━━━━━━━━━━━━━━━━━━━━━━━━━━━━━━━━━━━\u001b[0m \u001b[32m135.4/135.4 kB\u001b[0m \u001b[31m2.7 MB/s\u001b[0m eta \u001b[36m0:00:00\u001b[0m\n",
            "\u001b[?25hInstalling collected packages: deap\n",
            "Successfully installed deap-1.4.1\n"
          ]
        }
      ]
    },
    {
      "cell_type": "code",
      "execution_count": 10,
      "metadata": {
        "colab": {
          "base_uri": "https://localhost:8080/"
        },
        "id": "CCvPCXttEG9n",
        "outputId": "6dfad927-3515-4ee0-9393-98138d207b43"
      },
      "outputs": [
        {
          "output_type": "stream",
          "name": "stdout",
          "text": [
            "-- Generación 1 --\n",
            "  Población: [[8, 8], [1, 4], [6, 6], [6, 6], [3, 6], [6, 4]]\n",
            "  Aptitud de la población: [281474976710657.0, 2.0, 2176782337.0, 2176782337.0, 730.0, 2176782337.0]\n",
            "-- Generación 2 --\n",
            "  Población: [[8, 4], [6, 8], [8, 8], [8, 8], [6, 6], [6, 6]]\n",
            "  Aptitud de la población: [281474976710657.0, 2176782337.0, 281474976710657.0, 281474976710657.0, 2176782337.0, 2176782337.0]\n",
            "-- Generación 3 --\n",
            "  Población: [[8, 4], [8, 8], [8, 8], [8, 8], [8, 8], [8, 8]]\n",
            "  Aptitud de la población: [281474976710657.0, 281474976710657.0, 281474976710657.0, 281474976710657.0, 281474976710657.0, 281474976710657.0]\n"
          ]
        }
      ],
      "source": [
        "# Importación de las bibliotecas necesarias\n",
        "import random\n",
        "import numpy as np\n",
        "from deap import base, creator, tools, algorithms\n",
        "\n",
        "# Definir la función de evaluación f(x) = x^(2 * x) + 1\n",
        "def funcion_evaluacion(individuo):\n",
        "    x = individuo[0]\n",
        "    return (x ** (2 * x)) + 1,\n",
        "\n",
        "# Configuración de DEAP\n",
        "creator.create(\"MaximizarAptitud\", base.Fitness, weights=(1.0,))  # Queremos maximizar la función\n",
        "creator.create(\"Individuo\", list, fitness=creator.MaximizarAptitud)\n",
        "\n",
        "toolbox = base.Toolbox()\n",
        "toolbox.register(\"atributo_int\", random.randint, 1, 10)  # Generador de atributo para x entre 1 y 10\n",
        "\n",
        "# Aumentar el número de atributos por individuo\n",
        "toolbox.register(\"individuo\", tools.initRepeat, creator.Individuo, toolbox.atributo_int, n=2)  # Dos atributos por individuo\n",
        "toolbox.register(\"poblacion\", tools.initRepeat, list, toolbox.individuo)\n",
        "\n",
        "toolbox.register(\"evaluar\", funcion_evaluacion)  # Función de evaluación\n",
        "\n",
        "# Cambiar el cruce a cruce de un punto\n",
        "toolbox.register(\"cruzar\", tools.cxOnePoint)  # Cruce de un punto\n",
        "\n",
        "# Mutación (cambio de bit con una probabilidad del 10%)\n",
        "toolbox.register(\"mutar\", tools.mutFlipBit, indpb=0.1)\n",
        "\n",
        "# Selección (torneo con tamaño 3)\n",
        "toolbox.register(\"seleccionar\", tools.selTournament, tournsize=3)\n",
        "\n",
        "# Parámetros del algoritmo genético\n",
        "tamano_poblacion = 6\n",
        "generaciones = 3\n",
        "prob_cruce = 0.7\n",
        "prob_mutacion = 0.2\n",
        "\n",
        "# Ejecutar el algoritmo genético\n",
        "def ejecutar_algoritmo_genetico():\n",
        "    # Inicializar la población\n",
        "    poblacion = toolbox.poblacion(n=tamano_poblacion)\n",
        "\n",
        "    # Bucle a través de las generaciones\n",
        "    for gen in range(generaciones):\n",
        "        print(f\"-- Generación {gen+1} --\")\n",
        "\n",
        "        # Seleccionar los individuos de la siguiente generación\n",
        "        descendencia = toolbox.seleccionar(poblacion, len(poblacion))\n",
        "        descendencia = list(map(toolbox.clone, descendencia))\n",
        "\n",
        "        # Aplicar el cruce a los descendientes\n",
        "        for hijo1, hijo2 in zip(descendencia[::2], descendencia[1::2]):\n",
        "            if random.random() < prob_cruce:\n",
        "                toolbox.cruzar(hijo1, hijo2)  # Cruce de un punto\n",
        "                del hijo1.fitness.values\n",
        "                del hijo2.fitness.values\n",
        "\n",
        "        # Aplicar la mutación a los descendientes\n",
        "        for mutante in descendencia:\n",
        "            if random.random() < prob_mutacion:\n",
        "                toolbox.mutar(mutante)\n",
        "                del mutante.fitness.values\n",
        "\n",
        "        # Evaluar la aptitud de los individuos con aptitud inválida\n",
        "        individuos_invalidos = [ind for ind in descendencia if not ind.fitness.valid]\n",
        "        aptitudes = map(toolbox.evaluar, individuos_invalidos)\n",
        "        for ind, apt in zip(individuos_invalidos, aptitudes):\n",
        "            ind.fitness.values = apt\n",
        "\n",
        "        # Reemplazar la población antigua con los nuevos descendientes\n",
        "        poblacion[:] = descendencia\n",
        "\n",
        "        # Imprimir la población y su aptitud\n",
        "        aptitudes = [ind.fitness.values[0] for ind in poblacion]\n",
        "        print(f\"  Población: {poblacion}\")\n",
        "        print(f\"  Aptitud de la población: {aptitudes}\")\n",
        "\n",
        "ejecutar_algoritmo_genetico()\n",
        "\n"
      ]
    },
    {
      "cell_type": "code",
      "source": [
        "# Implementación sin DEAP (b)\n",
        "import random\n",
        "import numpy as np\n",
        "\n",
        "# Definir la función de evaluación f(x) = x^(2x) + 1\n",
        "def funcion_evaluacion(x):\n",
        "    return (x ** (2 * x)) + 1\n",
        "\n",
        "# Parámetros para el algoritmo genético\n",
        "tamano_poblacion = 6\n",
        "generaciones = 3\n",
        "prob_cruce = 0.7\n",
        "prob_mutacion = 0.2\n",
        "valor_minimo = 1\n",
        "valor_maximo = 10\n",
        "\n",
        "# Inicializar la población aleatoriamente entre 1 y 10\n",
        "def inicializar_poblacion(tamano, valor_min, valor_max):\n",
        "    return [random.randint(valor_min, valor_max) for _ in range(tamano)]\n",
        "\n",
        "# Función de selección usando selección por torneo\n",
        "def seleccion_por_torneo(poblacion, puntajes, k=3):\n",
        "    seleccionados = []\n",
        "    for _ in range(len(poblacion)):\n",
        "        aspirantes = random.sample(list(zip(poblacion, puntajes)), k)\n",
        "        seleccionados.append(max(aspirantes, key=lambda x: x[1])[0])\n",
        "    return seleccionados\n",
        "\n",
        "# Función de cruce (cruce de un punto)\n",
        "def cruce(padre1, padre2):\n",
        "    if random.random() < prob_cruce:\n",
        "        return (padre1 + padre2) // 2, (padre1 + padre2) // 2  # Devolver dos descendientes\n",
        "    return padre1, padre2\n",
        "\n",
        "# Función de mutación (cambia aleatoriamente el valor dentro del rango)\n",
        "def mutacion(individuo, valor_min, valor_max):\n",
        "    if random.random() < prob_mutacion:\n",
        "        return random.randint(valor_min, valor_max)\n",
        "    return individuo\n",
        "\n",
        "# Ejecutar el algoritmo genético sin DEAP\n",
        "def ejecutar_algoritmo_genetico_sin_deap():\n",
        "    poblacion = inicializar_poblacion(tamano_poblacion, valor_minimo, valor_maximo)\n",
        "\n",
        "    for gen in range(generaciones):\n",
        "        print(f\"-- Generación {gen+1} --\")\n",
        "\n",
        "        # Evaluar la puntuación de la población\n",
        "        puntajes = [funcion_evaluacion(ind) for ind in poblacion]\n",
        "        print(f\"  Población: {poblacion}\")\n",
        "        print(f\"  Puntuaciones: {puntajes}\")\n",
        "\n",
        "        # Selección\n",
        "        seleccionados = seleccion_por_torneo(poblacion, puntajes)\n",
        "\n",
        "        # Cruce y mutación\n",
        "        siguiente_gen = []\n",
        "        for i in range(0, len(seleccionados), 2):\n",
        "            padre1, padre2 = seleccionados[i], seleccionados[i+1] if i+1 < len(seleccionados) else seleccionados[i]\n",
        "            descendiente1, descendiente2 = cruce(padre1, padre2)\n",
        "            siguiente_gen.append(mutacion(descendiente1, valor_minimo, valor_maximo))\n",
        "            if len(siguiente_gen) < tamano_poblacion:\n",
        "                siguiente_gen.append(mutacion(descendiente2, valor_minimo, valor_maximo))\n",
        "\n",
        "        poblacion = siguiente_gen\n",
        "\n",
        "ejecutar_algoritmo_genetico_sin_deap()\n",
        "\n"
      ],
      "metadata": {
        "colab": {
          "base_uri": "https://localhost:8080/"
        },
        "id": "nY0D-5TmII9N",
        "outputId": "5e4e8858-8283-43c0-e352-f9977bc02c0e"
      },
      "execution_count": 13,
      "outputs": [
        {
          "output_type": "stream",
          "name": "stdout",
          "text": [
            "-- Generación 1 --\n",
            "  Población: [2, 6, 10, 1, 9, 10]\n",
            "  Puntuaciones: [17, 2176782337, 100000000000000000001, 2, 150094635296999122, 100000000000000000001]\n",
            "-- Generación 2 --\n",
            "  Población: [10, 10, 10, 5, 1, 10]\n",
            "  Puntuaciones: [100000000000000000001, 100000000000000000001, 100000000000000000001, 9765626, 2, 100000000000000000001]\n",
            "-- Generación 3 --\n",
            "  Población: [3, 10, 9, 10, 7, 10]\n",
            "  Puntuaciones: [730, 100000000000000000001, 150094635296999122, 100000000000000000001, 678223072850, 100000000000000000001]\n"
          ]
        }
      ]
    }
  ]
}