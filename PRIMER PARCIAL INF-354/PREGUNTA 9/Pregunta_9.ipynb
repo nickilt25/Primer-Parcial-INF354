{
  "nbformat": 4,
  "nbformat_minor": 0,
  "metadata": {
    "colab": {
      "provenance": []
    },
    "kernelspec": {
      "name": "python3",
      "display_name": "Python 3"
    },
    "language_info": {
      "name": "python"
    }
  },
  "cells": [
    {
      "cell_type": "code",
      "source": [
        "# Algoritmo Codicioso (Greedy)\n",
        "def mochila_codicioso(pesos, valores, capacidad):\n",
        "    n = len(valores)\n",
        "    relacion = [(valores[i] / pesos[i], pesos[i], valores[i]) for i in range(n)]\n",
        "    relacion.sort(reverse=True, key=lambda x: x[0])  # Ordenar por relación valor/peso\n",
        "\n",
        "    valor_total = 0\n",
        "    for rel in relacion:\n",
        "        if capacidad <= 0:\n",
        "            break\n",
        "        if rel[1] <= capacidad:\n",
        "            capacidad -= rel[1]\n",
        "            valor_total += rel[2]\n",
        "        else:\n",
        "            valor_total += rel[0] * capacidad\n",
        "            break\n",
        "\n",
        "    return valor_total\n",
        "\n",
        "# Ejemplo de uso (suponiendo fracciones)\n",
        "pesos_fraccionarios = [5, 3, 4, 2]\n",
        "valores_fraccionarios = [10, 40, 30, 50]\n",
        "capacidad_fraccionaria = 7\n",
        "\n",
        "max_valor_codicioso = mochila_codicioso(pesos_fraccionarios, valores_fraccionarios, capacidad_fraccionaria)\n",
        "print(f'Máximo valor (Algoritmo Codicioso): {max_valor_codicioso}')\n",
        "\n"
      ],
      "metadata": {
        "colab": {
          "base_uri": "https://localhost:8080/"
        },
        "id": "gZ6Dbu9yRAvz",
        "outputId": "e1f14abe-e39f-40f7-b1ef-a32ad3a20571"
      },
      "execution_count": 13,
      "outputs": [
        {
          "output_type": "stream",
          "name": "stdout",
          "text": [
            "Máximo valor (Algoritmo Codicioso): 105.0\n"
          ]
        }
      ]
    },
    {
      "cell_type": "code",
      "source": [
        "#Fuerza Bruta\n",
        "from itertools import combinations\n",
        "\n",
        "def mochila_fuerza_bruta(pesos, valores, capacidad):\n",
        "    n = len(valores)\n",
        "    max_valor = 0\n",
        "\n",
        "    # Generar todas las combinaciones de artículos\n",
        "    for i in range(n + 1):\n",
        "        for combo in combinations(range(n), i):\n",
        "            peso_total = sum(pesos[j] for j in combo)\n",
        "            valor_total = sum(valores[j] for j in combo)\n",
        "            if peso_total <= capacidad:\n",
        "                max_valor = max(max_valor, valor_total)\n",
        "\n",
        "    return max_valor\n",
        "\n",
        "# Ejemplo de uso\n",
        "pesos = [5, 3, 4, 2]\n",
        "valores = [10, 40, 30, 50]\n",
        "capacidad = 7\n",
        "\n",
        "max_valor_fuerza_bruta = mochila_fuerza_bruta(pesos, valores, capacidad)\n",
        "print(f'Máximo valor (Fuerza Bruta): {max_valor_fuerza_bruta}')"
      ],
      "metadata": {
        "colab": {
          "base_uri": "https://localhost:8080/"
        },
        "id": "B65avP2LQyrI",
        "outputId": "1f4e34cc-93ac-4a47-ba40-62b7b4fac277"
      },
      "execution_count": 11,
      "outputs": [
        {
          "output_type": "stream",
          "name": "stdout",
          "text": [
            "Máximo valor (Fuerza Bruta): 90\n"
          ]
        }
      ]
    },
    {
      "cell_type": "code",
      "source": [
        "# Programación Dinámica\n",
        "def mochila_programacion_dinamica(pesos, valores, capacidad):\n",
        "    n = len(valores)\n",
        "    dp = [[0 for _ in range(capacidad + 1)] for _ in range(n + 1)]\n",
        "\n",
        "    for i in range(1, n + 1):\n",
        "        for w in range(capacidad + 1):\n",
        "            if pesos[i-1] <= w:\n",
        "                dp[i][w] = max(dp[i-1][w], dp[i-1][w - pesos[i-1]] + valores[i-1])\n",
        "            else:\n",
        "                dp[i][w] = dp[i-1][w]\n",
        "\n",
        "    return dp[n][capacidad]\n",
        "\n",
        "# Ejemplo de uso\n",
        "max_valor_dp = mochila_programacion_dinamica(pesos, valores, capacidad)\n",
        "print(f'Máximo valor (Programación Dinámica): {max_valor_dp}')\n",
        "\n"
      ],
      "metadata": {
        "colab": {
          "base_uri": "https://localhost:8080/"
        },
        "id": "OP-3F6G9Q2kE",
        "outputId": "3348dcc1-825c-4c1a-94ec-686ed6057ec6"
      },
      "execution_count": 12,
      "outputs": [
        {
          "output_type": "stream",
          "name": "stdout",
          "text": [
            "Máximo valor (Programación Dinámica): 90\n"
          ]
        }
      ]
    },
    {
      "cell_type": "code",
      "source": [
        "# Algoritmo Genético\n",
        "import random\n",
        "\n",
        "def mochila_genetico(pesos, valores, capacidad, poblacion_size=100, generaciones=1000):\n",
        "    def crear_individuo():\n",
        "        return [random.randint(0, 1) for _ in range(len(valores))]\n",
        "\n",
        "    def calcular_fitness(individuo):\n",
        "        peso_total = sum(pesos[i] * individuo[i] for i in range(len(individuo)))\n",
        "        valor_total = sum(valores[i] * individuo[i] for i in range(len(individuo)))\n",
        "        return valor_total if peso_total <= capacidad else 0\n",
        "\n",
        "    poblacion = [crear_individuo() for _ in range(poblacion_size)]\n",
        "\n",
        "    for _ in range(generaciones):\n",
        "        poblacion = sorted(poblacion, key=calcular_fitness, reverse=True)\n",
        "        nueva_generacion = poblacion[:10]  # Mantener los mejores\n",
        "\n",
        "        while len(nueva_generacion) < poblacion_size:\n",
        "            padre1, padre2 = random.choices(poblacion[:30], k=2)  # Selección\n",
        "            punto_cruce = random.randint(1, len(valores) - 1)\n",
        "            hijo = padre1[:punto_cruce] + padre2[punto_cruce:]\n",
        "            if random.random() < 0.1:  # Mutación\n",
        "                index_mutacion = random.randint(0, len(hijo) - 1)\n",
        "                hijo[index_mutacion] = 1 - hijo[index_mutacion]  # Flip\n",
        "            nueva_generacion.append(hijo)\n",
        "\n",
        "        poblacion = nueva_generacion\n",
        "\n",
        "    mejor_individuo = max(poblacion, key=calcular_fitness)\n",
        "    return calcular_fitness(mejor_individuo)\n",
        "\n",
        "# Ejemplo de uso\n",
        "max_valor_genetico = mochila_genetico(pesos, valores, capacidad)\n",
        "print(f'Máximo valor (Algoritmo Genético): {max_valor_genetico}')"
      ],
      "metadata": {
        "colab": {
          "base_uri": "https://localhost:8080/"
        },
        "id": "LMvmPVrsRDyI",
        "outputId": "f09cdc64-df94-4fdc-f957-3d1e5b4d21d3"
      },
      "execution_count": 14,
      "outputs": [
        {
          "output_type": "stream",
          "name": "stdout",
          "text": [
            "Máximo valor (Algoritmo Genético): 90\n"
          ]
        }
      ]
    }
  ]
}